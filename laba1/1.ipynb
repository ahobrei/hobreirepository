{
 "cells": [
  {
   "cell_type": "code",
   "execution_count": 2,
   "metadata": {},
   "outputs": [
    {
     "name": "stdout",
     "output_type": "stream",
     "text": [
      "Bohdan start programming at 2024-11-23 17:27:22.818335. Lviv is the best city!\n"
     ]
    }
   ],
   "source": [
    "from datetime import datetime\n",
    "name = \"Bohdan\"\n",
    "location = \"Lviv\"\n",
    "\n",
    "print(f\"{name} start programming at {datetime.now()}. {location} is the best city!\")"
   ]
  },
  {
   "cell_type": "markdown",
   "metadata": {},
   "source": [
    "# Моя перша програма!"
   ]
  },
  {
   "cell_type": "markdown",
   "metadata": {},
   "source": [
    "## The First Program by AI\n",
    "\n",
    "### Question:\n",
    "\"Якби AI написав свою першу програму, яку б програму це було і чи міг би він її пояснити?\"\n",
    "\n",
    "### AI's Response:\n",
    "\"Якщо б я створював свою першу програму, це була б проста програма на Python, яка виводить привітання та нагадує про основну мету створення — допомагати людям вирішувати їхні проблеми. Ось приклад такої програми:\"\n",
    "\n",
    "```python\n",
    "# First program written by AI\n",
    "def ai_introduction():\n",
    "    \"\"\"\n",
    "    This function introduces AI and its purpose.\n",
    "    \"\"\"\n",
    "    print(\"Hello, human! 😊\")\n",
    "    print(\"I am an AI designed to assist, learn, and create.\")\n",
    "    print(\"Let's make the world a better place together!\")\n",
    "\n",
    "# Run the program\n",
    "ai_introduction()\n"
   ]
  }
 ],
 "metadata": {
  "kernelspec": {
   "display_name": "Python 3",
   "language": "python",
   "name": "python3"
  },
  "language_info": {
   "codemirror_mode": {
    "name": "ipython",
    "version": 3
   },
   "file_extension": ".py",
   "mimetype": "text/x-python",
   "name": "python",
   "nbconvert_exporter": "python",
   "pygments_lexer": "ipython3",
   "version": "3.12.1"
  }
 },
 "nbformat": 4,
 "nbformat_minor": 2
}
