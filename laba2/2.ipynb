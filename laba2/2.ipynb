{
 "cells": [
  {
   "cell_type": "code",
   "execution_count": 1,
   "metadata": {},
   "outputs": [
    {
     "name": "stdout",
     "output_type": "stream",
     "text": [
      "Числова зміна:  25\n",
      "Рядок з числа: 84\n",
      "Список:  ['b', '123', 'Інший текст', 3.14]\n",
      "{'Іван': 'Кіт', 'Дідова': 'хатинка', 'Рік': 84}\n",
      "Кортеж:  ('b', 'новий текст у змінній')\n",
      "Множина:  {'новий текст', 'ss'}\n"
     ]
    }
   ],
   "source": [
    "a = \"новий текст у змінній\"\n",
    "b = 25  # числова зміна\n",
    "print(\"Числова зміна: \", b)\n",
    "\n",
    "number = 84\n",
    "number_str = str(number)\n",
    "print(\"Рядок з числа:\", number_str)  # str\n",
    "\n",
    "c = [\"b\", \"123\", \"Інший текст\", 3.14]  # List\n",
    "print(\"Список: \", c)\n",
    "\n",
    "d = {\"Іван\": \"Кіт\", \"Дідова\": \"хатинка\", \"Рік\": number}  # Dict\n",
    "print(d)\n",
    "\n",
    "e = (\"b\", a)  # Tuple\n",
    "f = {\"ss\", \"новий текст\"}  # Set\n",
    "print(\"Кортеж: \", e)\n",
    "print(\"Множина: \", f)\n"
   ]
  },
  {
   "cell_type": "code",
   "execution_count": 2,
   "metadata": {},
   "outputs": [
    {
     "name": "stdout",
     "output_type": "stream",
     "text": [
      "Результат додавання:  40\n",
      "Число 42 парне?  True\n",
      "Максимальне з трьох чисел (11, 29, 85):  85\n"
     ]
    }
   ],
   "source": [
    "# Functionals\n",
    "# Функція для додавання двох чисел\n",
    "def add_numbers(a, b):\n",
    "    return a + b\n",
    "\n",
    "# Функція для перевірки, чи є число парним\n",
    "def is_even(n):\n",
    "    return n % 2 == 0\n",
    "\n",
    "# Функція для знаходження максимального з трьох чисел\n",
    "def find_max(x, y, z):\n",
    "    return max(x, y, z)\n",
    "\n",
    "# Виклик функцій та вивід результатів\n",
    "result_add = add_numbers(15, 25)\n",
    "result_is_even = is_even(42)\n",
    "result_max = find_max(11, 29, 85)\n",
    "\n",
    "print(\"Результат додавання: \", result_add)\n",
    "print(\"Число 42 парне? \", result_is_even)\n",
    "print(\"Максимальне з трьох чисел (11, 29, 85): \", result_max)\n"
   ]
  },
  {
   "cell_type": "code",
   "execution_count": 4,
   "metadata": {},
   "outputs": [
    {
     "name": "stdout",
     "output_type": "stream",
     "text": [
      "Перебір букв:\n",
      "Буква: і\n",
      "Буква: п\n",
      "Буква: р\n",
      "Буква: щ\n",
      "Буква: ф\n",
      "Буква: в\n",
      "Буква: ц\n",
      "Факторіал числа 7 дорівнює 5040\n",
      "Сума чисел від 1 до 10: 55\n"
     ]
    }
   ],
   "source": [
    "# 1. Перебір списку символів\n",
    "letters = [\"і\", \"п\", \"р\", \"щ\", \"ф\", \"в\", \"ц\"]\n",
    "\n",
    "print(\"Перебір букв:\")\n",
    "for letter in letters:\n",
    "    print(f\"Буква: {letter}\")\n",
    "\n",
    "# 2. Функція для обчислення факторіалу з циклом\n",
    "def factorial(n):\n",
    "    result = 1\n",
    "    for i in range(1, n + 1):\n",
    "        result *= i  # Множимо result на i\n",
    "    return result\n",
    "\n",
    "# Виклик функції з іншим числом\n",
    "number = 7\n",
    "fact = factorial(number)\n",
    "\n",
    "print(f\"Факторіал числа {number} дорівнює {fact}\")\n",
    "\n",
    "# 3. Обчислення суми чисел від 1 до 10\n",
    "total_sum = 0\n",
    "\n",
    "for i in range(1, 11):  # Перебір чисел від 1 до 10\n",
    "    total_sum += i  # Додавання кожного числа до total_sum\n",
    "\n",
    "print(f\"Сума чисел від 1 до 10: {total_sum}\")\n"
   ]
  },
  {
   "cell_type": "code",
   "execution_count": 5,
   "metadata": {},
   "outputs": [
    {
     "name": "stdout",
     "output_type": "stream",
     "text": [
      "Значить A=True\n",
      "Значить B=True\n",
      "Пора року: Літо\n"
     ]
    }
   ],
   "source": [
    "# 1. Перевірка значення змінної A\n",
    "A = True\n",
    "print(\"Значить A=True\" if A else \"Значить A=False\")\n",
    "\n",
    "# 2. Перевірка значення змінної B\n",
    "B = False\n",
    "print(\"Значить B=False\" if B else \"Значить B=True\")\n",
    "\n",
    "# 3. Визначення пори року за назвою місяця\n",
    "month = input(\"Введіть місяць (українською): \").strip().lower()\n",
    "\n",
    "if month in ['грудень', 'січень', 'лютий']:\n",
    "    season = \"Зима\"\n",
    "elif month in ['березень', 'квітень', 'травень']:\n",
    "    season = \"Весна\"\n",
    "elif month in ['червень', 'липень', 'серпень']:\n",
    "    season = \"Літо\"\n",
    "elif month in ['вересень', 'жовтень', 'листопад']:\n",
    "    season = \"Осінь\"\n",
    "else:\n",
    "    season = \"Невірний місяць. Перевірте правильність введення.\"\n",
    "\n",
    "print(f\"Пора року: {season}\")\n"
   ]
  },
  {
   "cell_type": "code",
   "execution_count": 6,
   "metadata": {},
   "outputs": [
    {
     "name": "stdout",
     "output_type": "stream",
     "text": [
      "Що буде, якщо виконати 10/A?\n",
      "2.0\n",
      "А от воно що!\n",
      "Результат ділення: 5.0\n",
      "Дякуємо за використання програми!\n"
     ]
    }
   ],
   "source": [
    "# 1. Обробка ділення на нуль (змінено значення змінної A)\n",
    "A = 5\n",
    "try:\n",
    "    print(\"Що буде, якщо виконати 10/A?\")\n",
    "    print(10 / A)  # Тут ділення виконується нормально\n",
    "except ZeroDivisionError as e:\n",
    "    print(f\"Помилка: {e}\")\n",
    "except Exception as e:\n",
    "    print(f\"Інша помилка: {e}\")\n",
    "finally:\n",
    "    print(\"А от воно що!\")\n",
    "\n",
    "# 2. Ділення чисел з обробкою винятків (змінено значення)\n",
    "try:\n",
    "    numerator = 20  # Фіксоване значення чисельника\n",
    "    denominator = 4  # Фіксоване значення знаменника\n",
    "    result = numerator / denominator\n",
    "    print(f\"Результат ділення: {result}\")\n",
    "except ZeroDivisionError:\n",
    "    print(\"Помилка: Ділення на нуль!\")\n",
    "except ValueError:\n",
    "    print(\"Помилка: Введіть дійсні числа!\")\n",
    "finally:\n",
    "    print(\"Дякуємо за використання програми!\")\n"
   ]
  },
  {
   "cell_type": "code",
   "execution_count": 7,
   "metadata": {},
   "outputs": [
    {
     "name": "stdout",
     "output_type": "stream",
     "text": [
      "Приклад нового жарту:\n",
      "Яке місце найкраще для відпочинку? - Ліжко!\n",
      "А який настрій у такому місці? - Спокійний!😉\n",
      "Жарти залежно від часу доби змінюються...\n"
     ]
    }
   ],
   "source": [
    "# Запис нових даних у файл\n",
    "with open('example.txt', 'w') as file:\n",
    "    file.write(\"Приклад нового жарту:\\n\"\n",
    "    \"Яке місце найкраще для відпочинку? - Ліжко!\\n\"\n",
    "    \"А який настрій у такому місці? - Спокійний!😉\\n\")\n",
    "    file.write(\"Жарти залежно від часу доби змінюються...\")\n",
    "\n",
    "# Читання даних з файлу\n",
    "with open('example.txt', 'r') as file:\n",
    "    content = file.read()\n",
    "    print(content)\n"
   ]
  },
  {
   "cell_type": "code",
   "execution_count": 9,
   "metadata": {},
   "outputs": [
    {
     "name": "stdout",
     "output_type": "stream",
     "text": [
      "Лямбда-функції використовуються для створення невеликих функцій без необхідності оголошувати їх за допомогою def\n",
      "Куб числа 4: 64\n",
      "Більше число між 12 і 8: 12\n"
     ]
    }
   ],
   "source": [
    "print(\"Лямбда-функції використовуються для створення невеликих функцій без необхідності оголошувати їх за допомогою def\")\n",
    "\n",
    "# Лямбда-функція для обчислення куба числа\n",
    "cube = lambda x: x ** 3\n",
    "\n",
    "# Використання лямбда-функції\n",
    "result = cube(4)\n",
    "print(f\"Куб числа 4: {result}\")\n",
    "\n",
    "# Лямбда-функція для знаходження більшого з двох чисел\n",
    "max_num = lambda a, b: a if a > b else b\n",
    "\n",
    "# Використання лямбда-функції\n",
    "max_result = max_num(12, 8)\n",
    "print(f\"Більше число між 12 і 8: {max_result}\")\n"
   ]
  },
  {
   "cell_type": "code",
   "execution_count": 12,
   "metadata": {},
   "outputs": [
    {
     "name": "stdout",
     "output_type": "stream",
     "text": [
      "Ім'я: Андрій, Вік: 18, Висота: 1.8, Студент: False\n",
      "Квадрат числа 1: 1\n",
      "Квадрат числа 2: 4\n",
      "Квадрат числа 3: 9\n",
      "Квадрат числа 4: 16\n",
      "Квадрат числа 5: 25\n",
      "Квадрат числа 6: 36\n",
      "Квадрат числа 7: 49\n",
      "Квадрат числа 8: 64\n",
      "Квадрат числа 9: 81\n",
      "Квадрат числа 10: 100\n",
      "Фрукт: грушка\n",
      "Фрукт: персик\n",
      "Фрукт: манго\n",
      "Фрукт: ананас\n"
     ]
    }
   ],
   "source": [
    "# Оголошення змінних\n",
    "name = \"Андрій\"\n",
    "age = 18\n",
    "height = 1.80\n",
    "is_student = False\n",
    "\n",
    "# Вивід змінних\n",
    "print(f\"Ім'я: {name}, Вік: {age}, Висота: {height}, Студент: {is_student}\")\n",
    "\n",
    "# Цикл для виводу квадратів чисел від 1 до 10\n",
    "for i in range(1, 11):\n",
    "    print(f\"Квадрат числа {i}: {i ** 2}\")\n",
    "\n",
    "# Оголошення списку та його обробка\n",
    "fruits = [\"грушка\", \"персик\", \"манго\"]\n",
    "\n",
    "# Додавання елемента\n",
    "fruits.append(\"ананас\")\n",
    "\n",
    "# Вивід списку\n",
    "for fruit in fruits:\n",
    "    print(f\"Фрукт: {fruit}\")\n"
   ]
  }
 ],
 "metadata": {
  "kernelspec": {
   "display_name": "Python 3",
   "language": "python",
   "name": "python3"
  },
  "language_info": {
   "codemirror_mode": {
    "name": "ipython",
    "version": 3
   },
   "file_extension": ".py",
   "mimetype": "text/x-python",
   "name": "python",
   "nbconvert_exporter": "python",
   "pygments_lexer": "ipython3",
   "version": "3.12.1"
  }
 },
 "nbformat": 4,
 "nbformat_minor": 2
}
